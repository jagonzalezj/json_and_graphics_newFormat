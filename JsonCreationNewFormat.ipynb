{
 "cells": [
  {
   "cell_type": "markdown",
   "id": "c147adc2-bde2-4b11-bdea-3d5daab3220f",
   "metadata": {},
   "source": [
    "# Testing MQTT with the new version of json message"
   ]
  },
  {
   "cell_type": "markdown",
   "id": "6d4d8448-1c97-496b-9794-4c9d2eeabd50",
   "metadata": {},
   "source": [
    "A new forma of array of data was necesary for canomed. Until some days the format used was exactly that one of the S10. However Canomed should not replicate that format and the need of a new own format was needed. Care should be taken to the new array of data, and the new position inside the array of the variable \"sessions\" that cont the number of sessions inside the register time."
   ]
  },
  {
   "cell_type": "code",
   "execution_count": 1,
   "id": "cc0299ac-8634-40a7-900f-af577c094c6f",
   "metadata": {},
   "outputs": [],
   "source": [
    "import pandas as pd\n",
    "import datetime\n",
    "import json\n",
    "from random import randrange"
   ]
  },
  {
   "cell_type": "code",
   "execution_count": 2,
   "id": "e03ef2bd-4521-4496-a3f7-f0cdb491b431",
   "metadata": {},
   "outputs": [],
   "source": [
    "# READING OLD FORMAT CANNOMED STR: 10 sections position 4, multfactor=2\n",
    "n_sec = 10\n",
    "numb_sec_pos = 4\n",
    "mask_on_pos = 2\n",
    "n_factor = 1\n",
    "\n",
    "Form = 'OLD'\n",
    "donnees_root = 'Canomed_OldFormat'\n",
    "donnees = pd.read_csv(f'{donnees_root}/STR_data.txt').reset_index()\n",
    "donnees.drop(columns='Time', inplace= True)"
   ]
  },
  {
   "cell_type": "code",
   "execution_count": 3,
   "id": "91acddb1-ded2-4491-af97-37f80591a6c8",
   "metadata": {},
   "outputs": [],
   "source": [
    "# READING NEW FORMAT CANNOMED STR: 20 sections position 34, multfactor=1\n",
    "n_sec = 20\n",
    "numb_sec_pos = 35\n",
    "mask_on_pos = 33\n",
    "n_factor = 0\n",
    "\n",
    "Form = 'NEW'\n",
    "donnees_root = 'Canomed_NewFormat_20sections/STR4/'\n",
    "donnees = pd.read_csv(f'{donnees_root}/STR_data.txt').reset_index()\n",
    "donnees.drop(columns='Time', inplace= True)"
   ]
  },
  {
   "cell_type": "markdown",
   "id": "6f6a8cf1-3cb8-4d47-bc0c-b980d4f53d93",
   "metadata": {},
   "source": [
    "## Creation  of the json with the data and sections"
   ]
  },
  {
   "cell_type": "code",
   "execution_count": 4,
   "id": "a0200980-f454-42f9-8f0a-7b07c83a8c24",
   "metadata": {},
   "outputs": [
    {
     "name": "stdout",
     "output_type": "stream",
     "text": [
      "{\"data\": [19887.0, 9.0, 1.0, 1.0, 10.0, 12.0, 5.0, 0.0, 1.0, 4.0, 2.0, 1.0, 1.0, 1.0, 0.0, 1.0, 0.0, 0.0, 0.0, 1.0, 0.0, 16.0, 0.0, 1.0, 1.0, 1.0, 1.0, 0.0, 0.0, 0.0, 0.0, 0.0, 593.0, 640.0, 2.0, 392.0, 0.0, 0.0, 0.0, 8.0, 8.0, 8.0, 5.84, 5.8, 5.74, 0.0, 0.0, 0.0, 0.0, 0.0, 0.24, 0.22, 0.0, 9.875, 7.5, 6.75, 24.4, 18.4, 17.2, 0.62, 0.44, 0.38, 0.0, 0.0, 0.0, 0.0, 0.0, 0.0, 0.0, 0.0, 71.0, 0.0, 0.0, 74.0, 0.0, 0.0, 0.0, 0.0, 79.0], \"SEC1\": [671.0, 1016.0]}\n",
      "{\"data\": [19888.0, 9.0, 1.0, 1.0, 10.0, 12.0, 5.0, 0.0, 1.0, 4.0, 2.0, 1.0, 1.0, 1.0, 0.0, 1.0, 0.0, 0.0, 0.0, 1.0, 0.0, 16.0, 0.0, 1.0, 1.0, 1.0, 1.0, 0.0, 0.0, 0.0, 0.0, 0.0, 655.0, 982.0, 1.0, 327.0, 0.0, 0.0, 0.0, 8.0, 8.0, 8.0, 5.86, 5.8, 5.72, 0.0, 0.0, 0.0, 0.0, 0.0, 0.24, 0.06, 0.0, 8.75, 6.875, 6.125, 19.4, 18.2, 16.2, 0.52, 0.42, 0.36, 0.0, 0.0, 0.0, 0.0, 0.0, 0.0, 0.0, 0.0, 71.0, 0.0, 0.0, 74.0, 0.0, 0.0, 0.0, 0.0, 79.0]}\n",
      "{\"data\": [19889.0, 9.0, 1.0, 1.0, 10.0, 12.0, 5.0, 0.0, 1.0, 4.0, 2.0, 1.0, 1.0, 1.0, 0.0, 1.0, 0.0, 0.0, 0.0, 1.0, 0.0, 16.0, 0.0, 1.0, 1.0, 1.0, 1.0, 0.0, 0.0, 0.0, 0.0, 0.0, 621.0, 1025.0, 1.0, 404.0, 0.0, 0.0, 0.0, 8.0, 8.0, 8.0, 5.9, 5.8, 5.72, 0.0, 0.0, 0.0, 0.0, 0.0, 0.44, 0.22, 0.0, 12.5, 7.0, 6.0, 22.0, 18.6, 16.8, 0.92, 0.42, 0.36, 0.0, 0.0, 0.0, 0.0, 0.0, 0.0, 0.0, 0.0, 71.0, 0.0, 0.0, 74.0, 0.0, 0.0, 0.0, 0.0, 79.0]}\n",
      "{\"data\": [19890.0, 9.0, 1.0, 1.0, 10.0, 12.0, 5.0, 0.0, 1.0, 4.0, 2.0, 1.0, 1.0, 1.0, 0.0, 1.0, 0.0, 0.0, 0.0, 1.0, 0.0, 16.0, 0.0, 1.0, 1.0, 1.0, 1.0, 0.0, 0.0, 0.0, 0.0, 0.0, 626.0, 1007.0, 1.0, 381.0, 0.0, 0.0, 0.0, 8.0, 8.0, 8.0, 5.88, 5.8, 5.72, 0.0, 0.0, 0.0, 0.0, 0.0, 0.34, 0.24, 0.0, 8.625, 7.375, 6.5, 21.6, 18.6, 16.6, 0.52, 0.44, 0.38, 0.0, 0.0, 0.0, 0.0, 0.0, 0.0, 0.0, 0.0, 71.0, 0.0, 0.0, 74.0, 0.0, 0.0, 0.0, 0.0, 79.0]}\n",
      "{\"data\": [19891.0, 9.0, 1.0, 1.0, 10.0, 12.0, 5.0, 0.0, 1.0, 4.0, 2.0, 1.0, 1.0, 1.0, 0.0, 1.0, 0.0, 0.0, 0.0, 1.0, 0.0, 16.0, 0.0, 1.0, 1.0, 1.0, 1.0, 0.0, 0.0, 0.0, 0.0, 0.0, 656.0, 1010.0, 1.0, 354.0, 0.0, 0.0, 0.0, 8.0, 8.0, 8.0, 5.82, 5.8, 5.7, 0.0, 0.0, 0.0, 0.0, 0.0, 0.5, 0.36, 0.0, 10.25, 7.125, 6.25, 21.6, 19.8, 17.0, 0.54, 0.42, 0.36, 0.0, 0.0, 0.0, 0.0, 0.0, 0.0, 0.0, 0.0, 71.0, 0.0, 0.0, 74.0, 0.0, 0.0, 0.0, 0.0, 79.0]}\n",
      "{\"data\": [19892.0, 9.0, 1.0, 1.0, 10.0, 12.0, 5.0, 0.0, 1.0, 4.0, 2.0, 1.0, 1.0, 1.0, 0.0, 1.0, 0.0, 0.0, 0.0, 1.0, 0.0, 16.0, 0.0, 1.0, 1.0, 1.0, 1.0, 0.0, 0.0, 0.0, 0.0, 0.0, 604.0, 1013.0, 1.0, 409.0, 0.0, 0.0, 0.0, 8.0, 8.0, 8.0, 5.84, 5.8, 5.72, 0.0, 0.0, 0.0, 0.0, 0.0, 0.36, 0.26, 0.0, 8.375, 6.875, 6.0, 20.0, 18.8, 16.8, 0.54, 0.42, 0.34, 0.0, 0.0, 0.0, 0.0, 0.0, 0.0, 0.0, 0.0, 71.0, 0.0, 0.0, 74.0, 0.0, 0.0, 0.0, 0.0, 79.0]}\n",
      "{\"data\": [19893.0, 9.0, 1.0, 1.0, 10.0, 12.0, 5.0, 0.0, 1.0, 4.0, 2.0, 1.0, 1.0, 1.0, 0.0, 1.0, 0.0, 0.0, 0.0, 1.0, 0.0, 16.0, 0.0, 1.0, 1.0, 1.0, 1.0, 0.0, 0.0, 0.0, 0.0, 0.0, 632.0, 685.0, 2.0, 390.0, 0.0, 0.0, 0.0, 8.0, 8.0, 8.0, 5.84, 5.8, 5.74, 0.0, 0.0, 0.0, 0.0, 0.0, 0.2, 0.16, 0.0, 10.125, 7.75, 6.375, 22.4, 19.2, 17.6, 0.58, 0.46, 0.36, 0.0, 0.0, 0.0, 0.0, 0.0, 0.0, 0.0, 0.0, 71.0, 0.0, 0.0, 74.0, 0.0, 0.0, 0.0, 0.0, 79.0], \"SEC1\": [714.0, 1051.0]}\n",
      "{\"data\": [19894.0, 9.0, 1.0, 1.0, 10.0, 12.0, 5.0, 0.0, 1.0, 4.0, 2.0, 1.0, 1.0, 1.0, 0.0, 1.0, 0.0, 0.0, 0.0, 1.0, 0.0, 16.0, 0.0, 1.0, 1.0, 1.0, 1.0, 0.0, 0.0, 0.0, 0.0, 0.0, 567.0, 1030.0, 1.0, 463.0, 0.0, 0.0, 0.0, 8.0, 8.0, 8.0, 5.86, 5.8, 5.72, 0.0, 0.0, 0.0, 0.0, 0.0, 0.64, 0.32, 0.0, 9.625, 7.5, 5.875, 21.8, 19.8, 17.6, 0.6, 0.4, 0.34, 0.0, 0.0, 0.0, 0.0, 0.0, 0.0, 0.0, 0.0, 71.0, 0.0, 0.0, 74.0, 0.0, 0.0, 0.0, 0.0, 79.0]}\n",
      "{\"data\": [19895.0, 9.0, 1.0, 1.0, 10.0, 12.0, 5.0, 0.0, 1.0, 4.0, 2.0, 1.0, 1.0, 1.0, 0.0, 1.0, 0.0, 0.0, 0.0, 1.0, 0.0, 16.0, 0.0, 1.0, 1.0, 1.0, 1.0, 0.0, 0.0, 0.0, 0.0, 0.0, 614.0, 1022.0, 1.0, 408.0, 0.0, 0.0, 0.0, 8.0, 8.0, 8.0, 5.84, 5.78, 5.7, 0.0, 0.0, 0.0, 0.0, 0.0, 0.46, 0.26, 0.06, 9.5, 6.75, 5.875, 21.8, 19.6, 17.8, 0.52, 0.38, 0.32, 0.0, 0.0, 0.0, 0.0, 0.0, 0.0, 0.0, 0.0, 71.0, 0.0, 0.0, 74.0, 0.0, 0.0, 0.0, 0.0, 79.0]}\n",
      "{\"data\": [19896.0, 9.0, 1.0, 1.0, 10.0, 12.0, 5.0, 0.0, 1.0, 4.0, 2.0, 1.0, 1.0, 1.0, 0.0, 1.0, 0.0, 0.0, 0.0, 1.0, 0.0, 16.0, 0.0, 1.0, 1.0, 1.0, 1.0, 0.0, 0.0, 0.0, 0.0, 0.0, 615.0, 695.0, 2.0, 425.0, 0.0, 0.0, 0.0, 8.0, 8.0, 8.0, 5.84, 5.78, 5.7, 0.0, 0.0, 0.0, 0.0, 0.0, 0.68, 0.52, 0.08, 9.0, 6.875, 5.75, 21.0, 18.6, 17.0, 0.56, 0.42, 0.34, 0.0, 0.0, 0.0, 0.0, 0.0, 0.0, 0.0, 0.0, 71.0, 0.0, 0.0, 74.0, 0.0, 0.0, 0.0, 0.0, 79.0], \"SEC1\": [723.0, 1068.0]}\n"
     ]
    },
    {
     "name": "stderr",
     "output_type": "stream",
     "text": [
      "C:\\Users\\piafo\\AppData\\Local\\Temp\\ipykernel_11124\\936901242.py:5: FutureWarning: Series.__getitem__ treating keys as positions is deprecated. In a future version, integer keys will always be treated as labels (consistent with DataFrame behavior). To access a value by position, use `ser.iloc[pos]`\n",
      "  sessions = donnees.iloc[i*n_sec][numb_sec_pos]\n",
      "C:\\Users\\piafo\\AppData\\Local\\Temp\\ipykernel_11124\\936901242.py:15: FutureWarning: Series.__getitem__ treating keys as positions is deprecated. In a future version, integer keys will always be treated as labels (consistent with DataFrame behavior). To access a value by position, use `ser.iloc[pos]`\n",
      "  message[S]=[donnees.iloc[i*n_sec+k][mask_on_pos], donnees.iloc[i*n_sec+k][mask_on_pos+1]]\n"
     ]
    }
   ],
   "source": [
    "for i in range(0,10): #range(int(donnees.shape[0]/10)):    # loop in each daily section   \n",
    "    xs = list(donnees.iloc[i*n_sec][1:])\n",
    "    \n",
    "    message = dict(data = xs)\n",
    "    sessions = donnees.iloc[i*n_sec][numb_sec_pos]\n",
    "    \n",
    "    #print(sessions)\n",
    "    if sessions >= 2: \n",
    "        if Form == 'OLD':\n",
    "            j = (sessions-2)/2\n",
    "        else:\n",
    "            j = sessions\n",
    "        for k in range(1,int(j)+n_factor):         \n",
    "            S = f'SEC{k}'\n",
    "            message[S]=[donnees.iloc[i*n_sec+k][mask_on_pos], donnees.iloc[i*n_sec+k][mask_on_pos+1]]\n",
    "            \n",
    "    print(json.dumps(message))  "
   ]
  },
  {
   "cell_type": "markdown",
   "id": "ff07c97a-09f3-4f49-958d-da2b78164987",
   "metadata": {},
   "source": [
    "## Creation of the formal Json MQTT message"
   ]
  },
  {
   "cell_type": "code",
   "execution_count": null,
   "id": "79a424fa-8f3b-4bd9-9a49-6b3160787d66",
   "metadata": {},
   "outputs": [],
   "source": [
    "num_ser = ['CAN5501771', 'CAN5501772', 'CAN5501671', 'CAN5507895', 'CAN5507896', \n",
    "           'CAN5507897', 'CAN5507898', 'CAN5507899', 'CAN5507900', 'CAN5507901', 'CAN55079023']\n",
    "\n",
    "for i in range(0,10): #range(int(donnees.shape[0]/10)):    # loop in each daily section\n",
    "    \n",
    "    # SERIAL NUMBER\n",
    "    message = dict(SN = num_ser[randrange(10)])\n",
    "\n",
    "    # DATE\n",
    "    message['TM'] = datetime.datetime.now().strftime('%Y/%m/%d %H:%M:%S')\n",
    "    \n",
    "    # STR DATA \n",
    "    xs = list(donnees.iloc[i*n_sec][1:])    \n",
    "    message['DATA'] = xs\n",
    "    \n",
    "    # STR MASK SESSIONS\n",
    "    sessions = donnees.iloc[i*n_sec][numb_sec_pos]   \n",
    "    if sessions >=2:                         \n",
    "        if Form == 'OLD':\n",
    "            j = (sessions-2)/2\n",
    "        else:\n",
    "            j = sessions\n",
    "        D = []\n",
    "        for k in range(1,int(j)+n_factor):         \n",
    "            D.append([donnees.iloc[i*n_sec+k][mask_on_pos], donnees.iloc[i*n_sec+k][mask_on_pos+1]])\n",
    "        if D:\n",
    "            message[\"MASK\"] = D\n",
    "    \n",
    "    print(json.dumps(message))"
   ]
  },
  {
   "cell_type": "markdown",
   "id": "7a4d00fc-e74f-46ed-9b16-8bb2d769c69c",
   "metadata": {
    "jp-MarkdownHeadingCollapsed": true
   },
   "source": [
    "## BIBLIOGRAPHY"
   ]
  },
  {
   "cell_type": "code",
   "execution_count": null,
   "id": "6b8c3b56-1a9e-4161-be53-1182783feca1",
   "metadata": {},
   "outputs": [],
   "source": [
    "Data = [ \"Date\", \"VersionSoft\", \"ModeTraitement\", \"ReactiviteTraitement\", \"ConsPressFixe\", \"ConsPressMax\", \"ConsPressMin\", \"ModeRampe\", \"ConsTempsRampe\", \"ConsPressDemarrage\", \"ModeSoftUse\", \"ConsSoftUse\", \"DemarrageAuto\", \"ArretAuto\", \"PresenceFiltre\", \"TypeMasque\", \"TypeTuyau\", \"PresenceHumidificateur\", \"HumidAuto\", \"ConsHumid\", \"PresenceCircuitChauffant\", \"ConsCircuitChauffant\", \"AccesPatientGeneral\", \"AccesPatientRampe\", \"AccesPatientSoftUse\", \"AccesPatientHumidificateur\", \"AccesPatientCircuitChauffant\", \"MoyHumidAmbiante\", \"MoyTempHumid\", \"MoyPuissHumid\", \"MoyTempCircuitChauffant\", \"MoyPuissCircuitChauffant\", \"HeureDebutSessionX\", \"HeureFinSessionX\", \"NbSession\", \"TempsUtilisation\", \"TempsUtilisationEff\", \"TempsUtilisationTotal\", \"TempsTurbine\", \"Press95\", \"Press50\", \"Press5\", \"PressMasqueMax\", \"PressMasque95\", \"PressMasque50\", \"PressNoFuites95\", \"PressNoFuites50\", \"Debit95\", \"Debit50\", \"Debit5\", \"FuitesMax\", \"Fuites95perc\", \"Fuites50perc\", \"VentMinuteMax\", \"VentMinute95\", \"VentMinute50\", \"FreqRespMax\", \"FreqResp95\", \"FreqResp50\", \"VolumeCourantMax\", \"VolumeCourant95\", \"VolumeCourant50\", \"IAH\", \"IA\", \"IH\", \"IAO\", \"IAC\", \"INoQua\", \"IHO\", \"IHC\", \"TempsRespCS\", \"TempsMoyCycleRCS\", \"NbRespMoyCycleRCS\", \"TempsRonflement\", \"PanneAppareil1\", \"PanneAppareil2\", \"PanneHumid\", \"PanneCircuitChauffant\", \"PanneEnregistrement\"]"
   ]
  },
  {
   "cell_type": "code",
   "execution_count": null,
   "id": "f8ecceb9-7ae0-4462-9170-a01b5410359f",
   "metadata": {},
   "outputs": [],
   "source": [
    "Data.index('NbSession')"
   ]
  },
  {
   "cell_type": "markdown",
   "id": "b01e06b7-8a66-43a9-9e1d-8042e42a7d8a",
   "metadata": {},
   "source": [
    "this is suposed to be the arrangement of data in the new format proposed y Gaetan. To notice that \"sessions\" now named \"NbSession\" is now in position 34 "
   ]
  },
  {
   "cell_type": "markdown",
   "id": "2a1defbd-5bbc-4037-899d-5b0ef6b0a6e2",
   "metadata": {},
   "source": [
    "Data = [    \"Date\",                     # Utiliser comme tag dans InfluxDB    \"VersionSoft\",    \"ModeTraitement\",    \"ReactiviteTraitement\",    \"ConsPressFixe\",    \"ConsPressMax\",    \"ConsPressMin\",    \"ModeRampe\",    \"ConsTempsRampe\",    \"ConsPressDemarrage\",    \"ModeSoftUse\",    \"ConsSoftUse\",    \"DemarrageAuto\",    \"ArretAuto\",    \"PresenceFiltre\",    \"TypeMasque\",    \"TypeTuyau\",    \"PresenceHumidificateur\",    \"HumidAuto\",    \"ConsHumid\",    \"PresenceCircuitChauffant\",    \"ConsCircuitChauffant\",    \"AccesPatientGeneral\",    \"AccesPatientRampe\",    \"AccesPatientSoftUse\",    \"AccesPatientHumidificateur\",    \"AccesPatientCircuitChauffant\",    \"MoyHumidAmbiante\",    \"MoyTempHumid\",    \"MoyPuissHumid\",    \"MoyTempCircuitChauffant\",    \"MoyPuissCircuitChauffant\",    \"HeureDebutSessionX\",    \"HeureFinSessionX\",    \"NbSession\",    \"TempsUtilisation\",    \"TempsUtilisationEff\",    \"TempsUtilisationTotal\",    \"TempsTurbine\",    \"Press95\",    \"Press50\",    \"Press5\",    \"PressMasqueMax\",    \"PressMasque95\",    \"PressMasque50\",    \"PressNoFuites95\",    \"PressNoFuites50\",    \"Debit95\",    \"Debit50\",    \"Debit5\",    \"FuitesMax\",    \"Fuites95perc\",    \"Fuites50perc\",    \"VentMinuteMax\",    \"VentMinute95\",    \"VentMinute50\",    \"FreqRespMax\",    \"FreqResp95\",    \"FreqResp50\",    \"VolumeCourantMax\",    \"VolumeCourant95\",    \"VolumeCourant50\",    \"IAH\",    \"IA\",    \"IH\",    \"IAO\",    \"IAC\",    \"INoQua\",    \"IHO\",    \"IHC\",    \"TempsRespCS\",    \"TempsMoyCycleRCS\",    \"NbRespMoyCycleRCS\",    \"TempsRonflement\",    \"PanneAppareil1\",    \"PanneAppareil2\",    \"PanneHumid\",    \"PanneCircuitChauffant\",    \"PanneEnregistrement\",]"
   ]
  }
 ],
 "metadata": {
  "kernelspec": {
   "display_name": "Python 3 (ipykernel)",
   "language": "python",
   "name": "python3"
  },
  "language_info": {
   "codemirror_mode": {
    "name": "ipython",
    "version": 3
   },
   "file_extension": ".py",
   "mimetype": "text/x-python",
   "name": "python",
   "nbconvert_exporter": "python",
   "pygments_lexer": "ipython3",
   "version": "3.11.9"
  }
 },
 "nbformat": 4,
 "nbformat_minor": 5
}
