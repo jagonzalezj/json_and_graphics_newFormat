{
 "cells": [
  {
   "cell_type": "markdown",
   "id": "5198c2a2",
   "metadata": {},
   "source": [
    "create the json forma to pass by the machines.\n",
    "\n",
    "this are the data in the STR.edf {[data],[sect1]...[sectN]}"
   ]
  },
  {
   "cell_type": "code",
   "execution_count": 1,
   "id": "3a093a6d",
   "metadata": {},
   "outputs": [],
   "source": [
    "import datetime\n",
    "import pandas as pd\n",
    "import json\n",
    "from random import randrange\n",
    "\n",
    "donnees_root = '../Data/0000000000000'\n",
    "\n",
    "donnees = pd.read_csv(f'{donnees_root}/STR_data.txt').reset_index()\n",
    "donnees.drop(columns='Time', inplace= True)"
   ]
  },
  {
   "cell_type": "markdown",
   "id": "f369acb1",
   "metadata": {
    "heading_collapsed": true
   },
   "source": [
    "### This are the two functions to convert alpha-numerics values into hexadecimal and vice-versa. The trick is to treat is to pass an string alpha-numeric and convert to hexadecimal each string element."
   ]
  },
  {
   "cell_type": "code",
   "execution_count": null,
   "id": "7655d1cb",
   "metadata": {
    "hidden": true
   },
   "outputs": [],
   "source": [
    "### STR 2 HEX\n",
    "original_string = \"CAN5501771\"\n",
    "hex_representation = original_string.encode('utf-8').hex()\n",
    "hex_representation"
   ]
  },
  {
   "cell_type": "code",
   "execution_count": null,
   "id": "9021664f",
   "metadata": {
    "hidden": true
   },
   "outputs": [],
   "source": [
    "### HEX 2 STR\n",
    "decoded_string = bytes.fromhex(hex_representation).decode('utf-8')\n",
    "decoded_string"
   ]
  },
  {
   "cell_type": "markdown",
   "id": "ce9cbfa4",
   "metadata": {},
   "source": [
    "### Here we loop for all day registered in an str_file."
   ]
  },
  {
   "cell_type": "markdown",
   "id": "2879016b",
   "metadata": {
    "heading_collapsed": true
   },
   "source": [
    "#### Version antigua antes de las modificaciones de Gaetan del 14 de marzo de 2024"
   ]
  },
  {
   "cell_type": "code",
   "execution_count": null,
   "id": "a29fcf2a",
   "metadata": {
    "hidden": true
   },
   "outputs": [],
   "source": [
    "#num_ser = ['CAN5501771', 'CAN5501772', 'CAN5501671', 'CAN5507895', 'CAN5507896', \n",
    "#           'CAN5507897', 'CAN5507898', 'CAN5507899', 'CAN5507900', 'CAN5507901', 'CAN55079023']\n",
    "\n",
    "for i in range(18,19): #range(int(donnees.shape[0]/10)):    # loop in each daily section   \n",
    "    xs = list(donnees.iloc[i*10][1:])\n",
    "    #xs.insert(0, num_ser[randrange(5)])     \n",
    "    \n",
    "    message = dict(data = xs)\n",
    "    #message = dict(data = list(map(lambda x: float.hex(x), xs)) )\n",
    "    \n",
    "    sessions = donnees.iloc[i*10][4]        \n",
    "    if sessions >2:                         \n",
    "        j = (sessions-2)/2\n",
    "        for k in range(1,int(j)+1):         \n",
    "            S = f'SEC{k}'\n",
    "            message[S]=[donnees.iloc[i*10+k][2], donnees.iloc[i*10+k][3]]\n",
    "            #message[S]=[float.hex(donnees.iloc[i*10+k][2]), float.hex(donnees.iloc[i*10+k][3])]\n",
    "            \n",
    "    print(json.dumps(message))   "
   ]
  },
  {
   "cell_type": "markdown",
   "id": "9a405994",
   "metadata": {},
   "source": [
    "#### Version moderna despues de las modiciaciones de Gaetan"
   ]
  },
  {
   "cell_type": "code",
   "execution_count": 5,
   "id": "a94ec34c",
   "metadata": {},
   "outputs": [
    {
     "name": "stdout",
     "output_type": "stream",
     "text": [
      "{\"SN\": \"CAN5507895\", \"TM\": \"2024/03/14 16:09:38\", \"DATA\": [19296.0, 496.0, 1134.0, 2.0, 638.0, 638.0, 14745.0, 1.0, 2.0, 45.0, 4.0, 10.0, 1.0, 1.0, 1.0, 0.0, 0.0, 5.0, 10.0, 6.0, 1.0, 0.0, 0.0, 1.0, 1.0, 0.0, 1.0, 5.0, 2.0, 27.0, 0.0, 1.0, 11.52, 8.82, 0.456, 0.228, 41.58, 14.0, 37.2, -0.1, 0.0, 13.0, -1.0, -1.0, -1.0, -1.0, 9.48, 9.96, 9.96, 9.6, 9.96, 9.96, 9.6, 9.96, 9.96, 0.1, 0.66, 0.28, 0.94, 7.625, 9.625, 17.125, 19.0, 23.0, 28.0, 0.4, 0.48, 0.76, 0.3, 0.1, 0.1, 0.0, 0.0, 0.0, 0.0, 0.0, 0.0, 0.0, 0.0, 27898.0]}\n",
      "{\"SN\": \"CAN5507895\", \"TM\": \"2024/03/14 16:09:38\", \"DATA\": [19297.0, 661.0, 712.0, 6.0, 529.0, 530.0, 14754.0, 1.0, 2.0, 45.0, 4.0, 10.0, 1.0, 1.0, 1.0, 0.0, 0.0, 5.0, 10.0, 6.0, 1.0, 0.0, 0.0, 1.0, 1.0, 0.0, 1.0, 5.0, 2.0, 27.0, 0.0, 1.0, 10.98, 6.48, 0.528, 0.288, 37.62, 16.0, 25.2, -0.1, 0.0, 1.0, -1.0, -1.0, -1.0, -1.0, 9.6, 9.96, 9.96, 9.72, 9.96, 9.96, 9.72, 9.96, 9.96, 0.02, 0.28, 0.06, 0.82, 8.625, 10.25, 15.125, 20.0, 23.2, 28.8, 0.42, 0.56, 0.78, 0.7, 0.6, 0.1, 0.1, 0.0, 0.0, 0.0, 0.0, 0.0, 0.0, 0.0, 20455.0], \"MASK\": [[716.0, 951.0], [958.0, 1201.0]]}\n",
      "{\"SN\": \"CAN5501671\", \"TM\": \"2024/03/14 16:09:38\", \"DATA\": [19298.0, 563.0, 1143.0, 2.0, 580.0, 580.0, 14763.0, 1.0, 2.0, 45.0, 4.0, 10.0, 1.0, 1.0, 1.0, 0.0, 0.0, 5.0, 10.0, 6.0, 1.0, 0.0, 0.0, 1.0, 1.0, 0.0, 1.0, 5.0, 2.0, 27.0, 0.0, 1.0, 11.52, 8.1, 0.432, 0.168, 43.56, 16.0, 24.0, -0.1, 0.0, 3.0, -1.0, -1.0, -1.0, -1.0, 9.36, 9.96, 9.96, 9.48, 9.96, 9.96, 9.48, 9.96, 9.96, 0.14, 0.54, 0.24, 0.86, 6.875, 8.5, 11.625, 17.2, 21.4, 28.0, 0.4, 0.5, 0.6, 0.8, 0.4, 0.4, 0.3, 0.1, 0.0, 0.0, 0.0, 0.0, 0.0, 0.0, -1812.0]}\n"
     ]
    },
    {
     "name": "stderr",
     "output_type": "stream",
     "text": [
      "C:\\Users\\Javier GONZALEZ\\AppData\\Local\\Temp\\ipykernel_9936\\875971624.py:17: FutureWarning: Series.__getitem__ treating keys as positions is deprecated. In a future version, integer keys will always be treated as labels (consistent with DataFrame behavior). To access a value by position, use `ser.iloc[pos]`\n",
      "  sessions = donnees.iloc[i*10][4]\n",
      "C:\\Users\\Javier GONZALEZ\\AppData\\Local\\Temp\\ipykernel_9936\\875971624.py:22: FutureWarning: Series.__getitem__ treating keys as positions is deprecated. In a future version, integer keys will always be treated as labels (consistent with DataFrame behavior). To access a value by position, use `ser.iloc[pos]`\n",
      "  D.append([donnees.iloc[i*10+k][2], donnees.iloc[i*10+k][3]])\n"
     ]
    }
   ],
   "source": [
    "num_ser = ['CAN5501771', 'CAN5501772', 'CAN5501671', 'CAN5507895', 'CAN5507896', \n",
    "           'CAN5507897', 'CAN5507898', 'CAN5507899', 'CAN5507900', 'CAN5507901', 'CAN55079023']\n",
    "\n",
    "for i in range(17,20): #range(int(donnees.shape[0]/10)):    # loop in each daily section\n",
    "    \n",
    "    # SERIAL NUMBER\n",
    "    message = dict(SN = num_ser[randrange(10)])\n",
    "    \n",
    "    # DATE\n",
    "    message['TM'] = datetime.datetime.now().strftime('%Y/%m/%d %H:%M:%S')\n",
    "    \n",
    "    # STR DATA \n",
    "    xs = list(donnees.iloc[i*10][1:])    \n",
    "    message['DATA'] = xs\n",
    "    \n",
    "    # STR MASK SESSIONS\n",
    "    sessions = donnees.iloc[i*10][4]        \n",
    "    if sessions >2:                         \n",
    "        j = (sessions-2)/2\n",
    "        D = []\n",
    "        for k in range(1,int(j)+1):         \n",
    "            D.append([donnees.iloc[i*10+k][2], donnees.iloc[i*10+k][3]])\n",
    "        message[\"MASK\"] = D\n",
    "    \n",
    "    print(json.dumps(message))   "
   ]
  },
  {
   "cell_type": "code",
   "execution_count": null,
   "id": "54c276e2",
   "metadata": {},
   "outputs": [],
   "source": [
    "datetime.datetime.now().strftime('%Y/%m/%d %H:%M:%S')"
   ]
  },
  {
   "cell_type": "markdown",
   "id": "525b64e4",
   "metadata": {},
   "source": [
    "### Working with time units for the variables:\n",
    " \n",
    "Time: Number of seconds since first record. It is stepped each 2.4 hours (8640 sec) for 10 intervals per day.\n",
    "\n",
    "Date: Number of days after reference time.\n",
    "\n",
    "MaskOn: Number of minutes after... per day.\n",
    "\n",
    "MaskOff: Number of minutes after ..  per day.\n",
    "\n",
    "MaskEvents: Number of times (MAskOn+MaskOff) per day.\n",
    "\n",
    "Duration: Number of minutes after MaskOn up to MaskOff per day (The total sum of all sections times durations).\n",
    "\n",
    "OnDuration: The same.\n",
    "\n",
    "PatientHours: Number of hours total of patient per life?\n",
    "\n",
    "Reference time: 01/01/1970\n",
    "\n",
    "1d = 24 H = 1440 min = 86400 sec.\n",
    "\n",
    "2.4 hours = 8640 sec."
   ]
  },
  {
   "cell_type": "code",
   "execution_count": null,
   "id": "cbb472ff",
   "metadata": {},
   "outputs": [],
   "source": [
    "time_ref = datetime.datetime(1970,1,1)\n",
    "\n",
    "Row = 20\n",
    "\n",
    "# Time\n",
    "Time = str(datetime.timedelta(seconds=donnees.iloc[Row][1]))\n",
    "# Date\n",
    "time_actual = time_ref+datetime.timedelta(days=donnees.iloc[Row][2])\n",
    "# MaskOn\n",
    "MaskOn = str(datetime.timedelta(minutes=donnees.iloc[Row][3]))\n",
    "# MaskOff\n",
    "MaskOff = str(datetime.timedelta(minutes=donnees.iloc[Row][4]))\n",
    "# Duration, OnDuration\n",
    "Duration = str(datetime.timedelta(minutes=donnees.iloc[Row][6]))\n",
    "# PatientHours\n",
    "PatientHours = str(datetime.timedelta(hours=donnees.iloc[Row][7]))\n",
    "#td = datetime.timedelta(hours=donnees.iloc[Row][7])\n",
    "#td.days*24+td.seconds/3600"
   ]
  },
  {
   "cell_type": "code",
   "execution_count": null,
   "id": "0dc99823",
   "metadata": {},
   "outputs": [],
   "source": [
    "# PRINTING\n",
    "print(f'Time_ref ---> {time_ref}')\n",
    "print(f'Time ---> {Time}')\n",
    "print(f'Time_actual ---> {time_actual}')\n",
    "print(f'MaskOn ---> {MaskOn}')\n",
    "print(f'MaskOff ---> {MaskOff}')\n",
    "print(f'Duration ---> {Duration}')\n",
    "print(f'PatientHours ---> {PatientHours}')"
   ]
  },
  {
   "cell_type": "code",
   "execution_count": null,
   "id": "694eb136",
   "metadata": {},
   "outputs": [],
   "source": [
    "td = datetime.timedelta(hours=14754)\n",
    "td.days*24+td.seconds/3600"
   ]
  },
  {
   "cell_type": "code",
   "execution_count": null,
   "id": "ff3edfc2",
   "metadata": {},
   "outputs": [],
   "source": [
    "# start and end timestamps in minutes\n",
    "start_ts =592.0 *60\n",
    "end_ts = 1049 *60\n",
    "\n",
    "# convert timestamps to datetime object\n",
    "dt1 = datetime.datetime.fromtimestamp(start_ts)\n",
    "print('Datetime Start:', dt1)\n",
    "dt2 = datetime.datetime.fromtimestamp(end_ts)\n",
    "print('Datetime End:', dt2)\n",
    "\n",
    "# Difference between two timestamps\n",
    "delta = dt2 - dt1\n",
    "print('Difference is:', delta)"
   ]
  },
  {
   "cell_type": "code",
   "execution_count": null,
   "id": "6eed427f",
   "metadata": {},
   "outputs": [],
   "source": [
    "MQTT_BROCKER='localhost'\n",
    "MQTT_PORT=1887\n",
    "MQTT_TOPIC='test_topic'\n",
    "MQTT_USER='matteo'\n",
    "MQTT_PASSWORD='matteo'"
   ]
  },
  {
   "cell_type": "code",
   "execution_count": null,
   "id": "f4fd55db",
   "metadata": {},
   "outputs": [],
   "source": [
    "test =0 # time in minutes\n",
    "print(datetime.datetime.fromtimestamp(test*60))\n",
    "print(datetime.timedelta(minutes=test))"
   ]
  },
  {
   "cell_type": "code",
   "execution_count": null,
   "id": "e7a605b6",
   "metadata": {},
   "outputs": [],
   "source": [
    "Time = str(datetime.timedelta(seconds=95040))\n",
    "Time"
   ]
  },
  {
   "cell_type": "code",
   "execution_count": 1,
   "id": "0132c450",
   "metadata": {},
   "outputs": [],
   "source": [
    "A = [19296.0, 496.0, 1134.0, 2.0, 638.0, 638.0, 14745.0, 1.0, 2.0, 45.0, 4.0, 10.0, 1.0, 1.0, 1.0, 0.0, 0.0, 5.0, 10.0, 6.0, 1.0, 0.0, 0.0, 1.0, 1.0, 0.0, 1.0, 5.0, 2.0, 27.0, 0.0, 1.0, 11.52, 8.82, 0.456, 0.228, 41.58, 14.0, 37.2, -0.1, 0.0, 13.0, -1.0, -1.0, -1.0, -1.0, 9.48, 9.96, 9.96, 9.6, 9.96, 9.96, 9.6, 9.96, 9.96, 0.1, 0.66, 0.28, 0.94, 7.625, 9.625, 17.125, 19.0, 23.0, 28.0, 0.4, 0.48, 0.76, 0.3, 0.1, 0.1, 0.0, 0.0, 0.0, 0.0, 0.0, 0.0, 0.0, 0.0, 27898.0]"
   ]
  },
  {
   "cell_type": "code",
   "execution_count": 3,
   "id": "0f8c93ca",
   "metadata": {},
   "outputs": [
    {
     "data": {
      "text/plain": [
       "80"
      ]
     },
     "execution_count": 3,
     "metadata": {},
     "output_type": "execute_result"
    }
   ],
   "source": [
    "len(A)"
   ]
  },
  {
   "cell_type": "code",
   "execution_count": null,
   "id": "480efab3",
   "metadata": {},
   "outputs": [],
   "source": []
  },
  {
   "cell_type": "code",
   "execution_count": null,
   "id": "0c4e4afc",
   "metadata": {},
   "outputs": [],
   "source": []
  }
 ],
 "metadata": {
  "kernelspec": {
   "display_name": "Python 3 (ipykernel)",
   "language": "python",
   "name": "python3"
  },
  "language_info": {
   "codemirror_mode": {
    "name": "ipython",
    "version": 3
   },
   "file_extension": ".py",
   "mimetype": "text/x-python",
   "name": "python",
   "nbconvert_exporter": "python",
   "pygments_lexer": "ipython3",
   "version": "3.11.9"
  }
 },
 "nbformat": 4,
 "nbformat_minor": 5
}
